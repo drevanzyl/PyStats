{
 "cells": [
  {
   "cell_type": "raw",
   "metadata": {},
   "source": [
    "---\n",
    "title: \"PyStats\"\n",
    "author: \"André van Zyl\"\n",
    "date: \"11/24/2023\"\n",
    "format:\n",
    "  docx:\n",
    "    toc: true\n",
    "    number-sections: true\n",
    "  html:\n",
    "    toc: true\n",
    "    number-sections: true\n",
    "jupyter: python3\n",
    "execute:\n",
    "  echo: true\n",
    "  warning: false\n",
    "---"
   ]
  },
  {
   "cell_type": "markdown",
   "metadata": {},
   "source": [
    "# Setup"
   ]
  },
  {
   "cell_type": "markdown",
   "metadata": {},
   "source": [
    "## Packages"
   ]
  },
  {
   "cell_type": "code",
   "execution_count": 2,
   "metadata": {},
   "outputs": [],
   "source": [
    "import warnings\n",
    "warnings.filterwarnings('ignore')\n",
    "import random\n",
    "import numpy as np\n",
    "import pandas as pd\n",
    "import matplotlib.pyplot as plt\n",
    "import seaborn as sns\n",
    "from IPython.display import display, Math\n",
    "from sympy import latex, symbols, diff\n",
    "import numpy as np\n",
    "pd.set_option('display.precision', 2)\n",
    "np.set_printoptions(precision=2)\n",
    "random.seed(1738)"
   ]
  },
  {
   "cell_type": "markdown",
   "metadata": {},
   "source": [
    "## Functions"
   ]
  },
  {
   "cell_type": "code",
   "execution_count": 3,
   "metadata": {},
   "outputs": [],
   "source": [
    "def round_values(numbers, precision):\n",
    "    \"\"\"\n",
    "    Rounds a list of numbers to a given precision.\n",
    "\n",
    "    Parameters:\n",
    "    numbers (list of float): The list of numbers to round.\n",
    "    precision (int): The number of decimal places to round each number to.\n",
    "\n",
    "    Returns:\n",
    "    list of float: The list of rounded numbers.\n",
    "    \"\"\"\n",
    "    return [round(num, precision) for num in numbers]"
   ]
  },
  {
   "cell_type": "markdown",
   "metadata": {},
   "source": [
    "# Population Proportion"
   ]
  },
  {
   "cell_type": "markdown",
   "metadata": {},
   "source": [
    "## One Proportion"
   ]
  },
  {
   "cell_type": "markdown",
   "metadata": {},
   "source": [
    "### Estimating Population Proportion\n",
    "\n",
    "A sample of 659 parents with a toddler was taken and asked if they used a car seat for all travel with their toddler. 540 parents responded 'yes' to this question. Calcualte the proportion and 95% CIs"
   ]
  },
  {
   "cell_type": "markdown",
   "metadata": {},
   "source": [
    "#### Normal Approximation Method\n",
    "\n",
    "$$\n",
    "\\hat{p} \\pm z \\sqrt{\\frac{\\hat{p}(1 - \\hat{p})}{n}}\n",
    "$$\n",
    "\n",
    "Breaking it down:\n",
    "\n",
    "* $\\hat{p}$ represents the sample proportion.\n",
    "* $z$ is the z-score corresponding to the confidence level (1.96 for 95% confidence).\n",
    "* $n$ is the sample size.\n",
    "* The square root term $\\sqrt{\\frac{\\hat{p}(1 - \\hat{p})}{n}}$ calculates the standard error of the sample proportion."
   ]
  },
  {
   "cell_type": "code",
   "execution_count": 4,
   "metadata": {},
   "outputs": [
    {
     "data": {
      "text/plain": [
       "[0.82, 0.79, 0.85]"
      ]
     },
     "execution_count": 4,
     "metadata": {},
     "output_type": "execute_result"
    }
   ],
   "source": [
    "\n",
    "# Given data\n",
    "count = 540  # number of parents who responded 'yes'\n",
    "nobs = 659   # total number of parents asked\n",
    "# Calculate the proportion\n",
    "proportion = count / nobs\n",
    "# Proportion as per the new information\n",
    "p_hat = proportion\n",
    "# Total number of parents surveyed\n",
    "n = nobs\n",
    "# Z-score for 95% confidence\n",
    "z = 1.96\n",
    "\n",
    "# Calculate the standard error\n",
    "se = np.sqrt(p_hat * (1 - p_hat) / n)\n",
    "\n",
    "# Calculate the 95% confidence interval using the given formula\n",
    "ci_lower = p_hat - z * se\n",
    "ci_upper = p_hat + z * se\n",
    "\n",
    "round_values([p_hat, ci_lower, ci_upper], 2)"
   ]
  },
  {
   "cell_type": "markdown",
   "metadata": {},
   "source": [
    "#### Exact (Binomial) Method"
   ]
  },
  {
   "cell_type": "code",
   "execution_count": 5,
   "metadata": {},
   "outputs": [
    {
     "data": {
      "text/plain": [
       "[0.82, 0.79, 0.85]"
      ]
     },
     "execution_count": 5,
     "metadata": {},
     "output_type": "execute_result"
    }
   ],
   "source": [
    "from statsmodels.stats.proportion import proportion_confint\n",
    "\n",
    "# Calculate the 95% confidence interval for the proportion\n",
    "# Method 'binom_test' is used for exact CI calculation appropriate for binomial distribution\n",
    "ci_low, ci_upp = proportion_confint(count, nobs, alpha=0.05, method='binom_test')\n",
    "\n",
    "round_values([proportion, ci_low, ci_upp], 2)"
   ]
  },
  {
   "cell_type": "markdown",
   "metadata": {},
   "source": [
    "### Sample Size Determination"
   ]
  },
  {
   "cell_type": "markdown",
   "metadata": {},
   "source": [
    "#### Normal Approximation Method\n",
    "\n",
    "$$MoE = \\frac{{1}}{\\sqrt{n}}$$"
   ]
  },
  {
   "cell_type": "code",
   "execution_count": 6,
   "metadata": {},
   "outputs": [
    {
     "data": {
      "text/plain": [
       "0.06565321642986127"
      ]
     },
     "execution_count": 6,
     "metadata": {},
     "output_type": "execute_result"
    }
   ],
   "source": [
    "moe = 1/np.sqrt(232)\n",
    "moe"
   ]
  },
  {
   "cell_type": "markdown",
   "metadata": {},
   "source": [
    "##### For 95% Confidence"
   ]
  },
  {
   "cell_type": "code",
   "execution_count": 7,
   "metadata": {},
   "outputs": [
    {
     "data": {
      "text/plain": [
       "1111"
      ]
     },
     "execution_count": 7,
     "metadata": {},
     "output_type": "execute_result"
    }
   ],
   "source": [
    "# Margin of Error (MoE)\n",
    "MoE = 0.03\n",
    "\n",
    "# Calculate the sample size using the simplified formula from the image\n",
    "# n = (1 / MoE)^2\n",
    "sample_size = (1 / MoE)**2\n",
    "\n",
    "# The sample size should be a whole number\n",
    "sample_size = int(round(sample_size))\n",
    "\n",
    "sample_size\n"
   ]
  },
  {
   "cell_type": "code",
   "execution_count": 8,
   "metadata": {},
   "outputs": [
    {
     "data": {
      "text/plain": [
       "1111"
      ]
     },
     "execution_count": 8,
     "metadata": {},
     "output_type": "execute_result"
    }
   ],
   "source": [
    "# Margin of Error (MoE)\n",
    "MoE = 0.03\n",
    "\n",
    "# Calculate the sample size using the simplified formula from the image\n",
    "# n = (1 / MoE)^2\n",
    "sample_size = (1 / MoE)**2\n",
    "\n",
    "# The sample size should be a whole number\n",
    "sample_size = int(round(sample_size))\n",
    "\n",
    "sample_size"
   ]
  },
  {
   "cell_type": "markdown",
   "metadata": {},
   "source": [
    "##### For 99% Confidence\n",
    "\n",
    "\n",
    "$$\n",
    "\\begin{align*}\n",
    "& \\hat{p} \\pm Z^* \\cdot \\frac{1}{2\\sqrt{n}} \\\\\n",
    "& MoE = Z^* \\cdot \\frac{1}{2\\sqrt{n}} \\\\\n",
    "& n = \\left( \\frac{Z^*}{2 \\cdot MoE} \\right)^2 \\\\\n",
    "\\end{align*}\n",
    "$$\n",
    "\n"
   ]
  },
  {
   "cell_type": "code",
   "execution_count": 9,
   "metadata": {},
   "outputs": [
    {
     "name": "stdout",
     "output_type": "stream",
     "text": [
      "1844\n"
     ]
    }
   ],
   "source": [
    "# Values provided in the image\n",
    "Z_star = 2.576  # Z-score for 99% confidence\n",
    "MoE = 0.03      # Margin of Error\n",
    "\n",
    "# Sample size calculation\n",
    "n = (Z_star / (2 * MoE)) ** 2\n",
    "\n",
    "# Since sample size must be a whole number, round up\n",
    "import math\n",
    "n_rounded = math.ceil(n)\n",
    "\n",
    "print(n_rounded)\n"
   ]
  },
  {
   "cell_type": "markdown",
   "metadata": {},
   "source": [
    "#### Exact Method\n",
    "$n = \\left( \\frac{Z_{\\alpha/2} \\times \\sqrt{p(1-p)}}{MoE} \\right)^2$"
   ]
  },
  {
   "cell_type": "code",
   "execution_count": 10,
   "metadata": {},
   "outputs": [
    {
     "data": {
      "text/plain": [
       "601"
      ]
     },
     "execution_count": 10,
     "metadata": {},
     "output_type": "execute_result"
    }
   ],
   "source": [
    "from scipy.stats import norm\n",
    "\n",
    "# Desired margin of error\n",
    "margin_of_error = 0.04\n",
    "\n",
    "# For a 95% confidence interval, the z-score is approximately 1.96\n",
    "z_score = norm.ppf(0.975)\n",
    "\n",
    "# Since the population proportion is unknown, we use the most conservative estimate, p = 0.5\n",
    "p = 0.5\n",
    "q = 1 - p\n",
    "\n",
    "# Calculate the sample size using the formula for margin of error\n",
    "sample_size = (z_score ** 2 * p * q) / (margin_of_error ** 2)\n",
    "\n",
    "# Since sample size must be a whole number, we round up\n",
    "sample_size = int(sample_size) + 1 if sample_size % 1 > 0 else int(sample_size)\n",
    "\n",
    "sample_size\n"
   ]
  },
  {
   "cell_type": "markdown",
   "metadata": {},
   "source": [
    "What minimum sample size does the researcher need in order to create a 98% conservative confidence interval with a margin of error of no more than 3%?   "
   ]
  },
  {
   "cell_type": "code",
   "execution_count": 11,
   "metadata": {},
   "outputs": [
    {
     "data": {
      "text/plain": [
       "1504"
      ]
     },
     "execution_count": 11,
     "metadata": {},
     "output_type": "execute_result"
    }
   ],
   "source": [
    "from scipy.stats import norm\n",
    "\n",
    "# Desired margin of error\n",
    "margin_of_error = 0.03\n",
    "\n",
    "# For a 98% confidence interval, the z-score is approximately 2.33 (found using the ppf function)\n",
    "z_score = norm.ppf(0.99)\n",
    "\n",
    "# Since the population proportion is unknown, we use the most conservative estimate, p = 0.5\n",
    "p = 0.5\n",
    "q = 1 - p\n",
    "\n",
    "# Calculate the sample size using the formula for margin of error\n",
    "sample_size = (z_score ** 2 * p * q) / (margin_of_error ** 2)\n",
    "\n",
    "# Since sample size must be a whole number, we round up\n",
    "sample_size = int(sample_size) + (sample_size % 1 > 0)\n",
    "\n",
    "sample_size"
   ]
  },
  {
   "cell_type": "markdown",
   "metadata": {},
   "source": [
    "## Two Proportions"
   ]
  },
  {
   "cell_type": "markdown",
   "metadata": {},
   "source": [
    "### Estimating a Difference in Population Proportions\n",
    "\n",
    "$$\n",
    "\\begin{align*}\n",
    "\\text{Best Estimate} \\pm \\text{MoE} \\\\\n",
    "\\hat{p}_1 - \\hat{p}_2 \\pm 1.96 \\cdot \\sqrt{\\frac{\\hat{p}_1(1-\\hat{p}_1)}{n_1} + \\frac{\\hat{p}_2(1-\\hat{p}_2)}{n_2}}\n",
    "\\end{align*}\n",
    "$$\n",
    "  \n"
   ]
  },
  {
   "cell_type": "code",
   "execution_count": 12,
   "metadata": {},
   "outputs": [
    {
     "data": {
      "text/plain": [
       "[0.1812, 0.5496, 0.3684, 1.96, 0.0677, 0.1135, 0.2489]"
      ]
     },
     "execution_count": 12,
     "metadata": {},
     "output_type": "execute_result"
    }
   ],
   "source": [
    "import numpy as np\n",
    "from scipy.stats import norm\n",
    "\n",
    "# Given sample sizes and number of successes\n",
    "n1, x1 = 988, 543 # sample of white children\n",
    "n2, x2 = 247, 91  # sample of black children\n",
    "\n",
    "\n",
    "# Calculate the sample proportions\n",
    "p1 = x1 / n1\n",
    "p2 = x2 / n2\n",
    "\n",
    "# Calculate the standard error for the difference in proportions\n",
    "se = np.sqrt(p1 * (1 - p1) / n1 + p2 * (1 - p2) / n2)\n",
    "\n",
    "# Calculate the z-score for 95% confidence\n",
    "z = norm.ppf(0.975)\n",
    "#z = 1.96\n",
    "\n",
    "# Calculate the margin of error\n",
    "moE = z * se\n",
    "\n",
    "# Calculate the confidence interval\n",
    "ci_lower = (p1 - p2) - moE\n",
    "ci_upper = (p1 - p2) + moE\n",
    "#ci_lower = 0.18 - moE\n",
    "#ci_upper = 0.18 + moE\n",
    "\n",
    "round_values([p1 - p2, p1, p2, z,moE, ci_lower, ci_upper], 4)\n"
   ]
  },
  {
   "cell_type": "markdown",
   "metadata": {},
   "source": [
    "Interpreting the Confidence Interval\n",
    "\"range of reasonable values for our parameter\"\n",
    "With 95% confidence, the population proportion of parents with white children who have taken swimming lessons is 11.35 to 24.89% higher than the population proportion of parents with black children who have taken swimming lessons."
   ]
  },
  {
   "cell_type": "markdown",
   "metadata": {},
   "source": [
    "# Population Means"
   ]
  },
  {
   "cell_type": "markdown",
   "metadata": {},
   "source": [
    "## One Mean\n",
    "$$\n",
    "\\bar{x} \\pm t^* \\left(\\frac{s}{\\sqrt{n}}\\right)\n",
    "$$\n",
    "\n",
    "Mean = 82.48 inches\n",
    "\n",
    "Standard Deviation = 15.06 inches\n",
    "\n",
    "$n$ = 25 observations > $t*$ = 2.064\n",
    "\n",
    "$$\n",
    "\\begin{align*}\n",
    "\\bar{x} \\pm t^* \\left( \\frac{s}{\\sqrt{n}} \\right) &= 82.48 \\pm 2.064 \\left( \\frac{15.06}{\\sqrt{25}} \\right) \\\\\n",
    "&= 82.48 \\pm 2.064(3.012) \\\\\n",
    "&= 82.48 \\pm 6.22 \\\\\n",
    "& \\text{(76.26 inches, 88.70 inches)} \n",
    "\\end{align*}\n",
    "$$\n"
   ]
  },
  {
   "cell_type": "code",
   "execution_count": 13,
   "metadata": {},
   "outputs": [
    {
     "name": "stdout",
     "output_type": "stream",
     "text": [
      "t-score for 95.0% confidence level and 24 degrees of freedom: 2.0638985616280205\n"
     ]
    }
   ],
   "source": [
    "from scipy.stats import t\n",
    "\n",
    "# Define your confidence level and degrees of freedom\n",
    "sample_size = 25\n",
    "confidence_level = 0.95  # for a 95% confidence interval\n",
    "degrees_of_freedom = sample_size - 1  # degrees of freedom\n",
    "\n",
    "# Calculate the t-score\n",
    "# The ppf function returns the inverse of the CDF (Cumulative Distribution Function)\n",
    "# The argument for the ppf function should be 1 minus half of the alpha level (1 - alpha/2)\n",
    "# because the t-distribution is symmetric, and we want the cumulative area from -t to t.\n",
    "t_score = t.ppf((1 + confidence_level) / 2, degrees_of_freedom)\n",
    "#t_score = 2.064\n",
    "\n",
    "print(f\"t-score for {confidence_level*100}% confidence level and {degrees_of_freedom} degrees of freedom: {t_score}\")\n"
   ]
  },
  {
   "cell_type": "code",
   "execution_count": 14,
   "metadata": {},
   "outputs": [
    {
     "name": "stdout",
     "output_type": "stream",
     "text": [
      "Margin of Error: 6.22\n",
      "Mean (95% CI): 82.48 (76.26 to 88.70)\n"
     ]
    }
   ],
   "source": [
    "# Given values for the mean, t-score, standard deviation, and sample size\n",
    "mean = 82.48\n",
    "\n",
    "standard_deviation = 15.06\n",
    "\n",
    "\n",
    "# Calculate the margin of error\n",
    "margin_of_error = t_score * (standard_deviation / (sample_size ** 0.5))\n",
    "\n",
    "# Calculate the confidence interval\n",
    "lower_bound = mean - margin_of_error\n",
    "upper_bound = mean + margin_of_error\n",
    "\n",
    "print(f\"Margin of Error: {margin_of_error:.2f}\")\n",
    "print(f\"Mean (95% CI): {mean:.2f} ({lower_bound:.2f} to {upper_bound:.2f})\")\n"
   ]
  },
  {
   "cell_type": "markdown",
   "metadata": {},
   "source": [
    "## Mean Difference for Paired Data\n",
    "\n",
    "> Difference = older twin - younger twin  \n",
    "Difference in Twin Education  \n",
    "n = 340 observations  \n",
    "Minimum = -3.5 years  \n",
    "Maximum = 4 years  \n",
    "72.1% had a difference of 0 years  \n",
    "Mean = 0.0838 years  \n",
    "Standard Deviation = 0.7627 years  \n",
    "\n",
    "> 95% Confidence Interval Calculations  \n",
    "Best Estimate + Margin of Error  \n",
    "Sample mean difference + \"a few\" . estimated standard error  \n",
    "t*  \n",
    "t* multiplier comes from a t-distribution with n - 1 degrees of freedom  \n",
    "95% confidence  \n",
    "n= 25 > t* = 2.064  \n",
    "n= 1000 > t* = 1.962\n",
    "\n",
    "\\begin{align*}\n",
    "\\text{Sample mean difference} \\ \\bar{x}_d \\pm t^* \\left( \\frac{s_d}{\\sqrt{n}} \\right) & \\\\\n",
    "\\text{For } n = 25, \\ t^* = 2.064 \\ \\text{, so we have:} & \\\\\n",
    "\\bar{x}_d \\pm 2.064 \\left( \\frac{s_d}{\\sqrt{25}} \\right) & \\\\\n",
    "\\text{If } \\bar{x}_d = 82.48 \\ \\text{and} \\ s_d = 15.06, \\ \\text{then:} & \\\\\n",
    "82.48 \\pm 2.064 \\left( \\frac{15.06}{\\sqrt{25}} \\right) & \\\\\n",
    "82.48 \\pm 2.064 \\times 3.012 & \\\\\n",
    "82.48 \\pm 6.22 &\n",
    "\\end{align*}\n",
    "\n",
    "\n"
   ]
  },
  {
   "cell_type": "code",
   "execution_count": 15,
   "metadata": {},
   "outputs": [
    {
     "name": "stdout",
     "output_type": "stream",
     "text": [
      "Sample Mean Difference: 82.48\n",
      "Margin of Error: 6.22\n",
      "95% Confidence Interval: (76.26, 88.70)\n"
     ]
    }
   ],
   "source": [
    "from scipy.stats import t\n",
    "import numpy as np\n",
    "\n",
    "# Given values\n",
    "n = 25  # Sample size\n",
    "confidence_level = 0.95  # Confidence level\n",
    "s_d = 15.06  # Standard deviation of the differences\n",
    "x_d_bar = 82.48  # Difference in sample means\n",
    "\n",
    "# Calculate the t-score\n",
    "degrees_of_freedom = n - 1\n",
    "t_score = t.ppf((1 + confidence_level) / 2, degrees_of_freedom)\n",
    "\n",
    "# Calculate the standard error of the mean difference\n",
    "se_d = s_d / np.sqrt(n)\n",
    "\n",
    "# Calculate the margin of error\n",
    "margin_of_error = t_score * se_d\n",
    "\n",
    "# Calculate the confidence interval\n",
    "lower_bound = x_d_bar - margin_of_error\n",
    "upper_bound = x_d_bar + margin_of_error\n",
    "\n",
    "# Print the results in a publication-friendly format\n",
    "print(f\"Sample Mean Difference: {x_d_bar:.2f}\")\n",
    "print(f\"Margin of Error: {margin_of_error:.2f}\")\n",
    "print(f\"95% Confidence Interval: ({lower_bound:.2f}, {upper_bound:.2f})\")\n"
   ]
  },
  {
   "cell_type": "markdown",
   "metadata": {},
   "source": [
    "\\begin{align*}\n",
    "\\text{Mean Difference Confidence Interval} \\\\\n",
    "\\text{Mean} &= 0.084 \\text{ years} \\\\\n",
    "\\text{Standard Deviation} &= 0.76 \\text{ years} \\\\\n",
    "n &= 340 \\text{ observations} \\rightarrow t^* = 1.967 \\\\\n",
    "\\end{align*}\n",
    "\n",
    "\\begin{align*}\n",
    "\\bar{x}_d \\pm t^* \\left( \\frac{s_d}{\\sqrt{n}} \\right) &= 0.084 \\pm 1.967 \\left( \\frac{0.76}{\\sqrt{340}} \\right) \\\\\n",
    "&= 0.084 \\pm 1.967 (0.04) \\\\\n",
    "&= 0.084 \\pm 0.0814 \\\\\n",
    "&= (0.0026, 0.1654) \\text{ years}\n",
    "\\end{align*}"
   ]
  },
  {
   "cell_type": "code",
   "execution_count": 16,
   "metadata": {},
   "outputs": [
    {
     "name": "stdout",
     "output_type": "stream",
     "text": [
      "Sample Mean Difference: 0.084 years\n",
      "Margin of Error: 0.0811 years\n",
      "95% Confidence Interval: (0.0029, 0.1651) years\n"
     ]
    }
   ],
   "source": [
    "from scipy.stats import t\n",
    "import numpy as np\n",
    "\n",
    "# Given values from the image\n",
    "mean_diff = 0.084  # Mean difference (x̄_d)\n",
    "std_dev_diff = 0.76  # Standard deviation of differences (s_d)\n",
    "n = 340  # Sample size (n)\n",
    "confidence_level = 0.95  # Confidence level for 95%\n",
    "\n",
    "# Calculate the t-score using the degrees of freedom (n - 1)\n",
    "degrees_of_freedom = n - 1\n",
    "#t_score = t.ppf((1 + confidence_level) / 2, degrees_of_freedom)\n",
    "t_score = 1.967\n",
    "\n",
    "# Calculate the standard error of the mean difference\n",
    "standard_error_diff = std_dev_diff / np.sqrt(n)\n",
    "\n",
    "# Calculate the margin of error\n",
    "margin_of_error = t_score * standard_error_diff\n",
    "\n",
    "# Calculate the confidence interval\n",
    "lower_bound = mean_diff - margin_of_error\n",
    "upper_bound = mean_diff + margin_of_error\n",
    "\n",
    "# Print the results\n",
    "print(f\"Sample Mean Difference: {mean_diff} years\")\n",
    "print(f\"Margin of Error: {margin_of_error:.4f} years\")\n",
    "print(f\"95% Confidence Interval: ({lower_bound:.4f}, {upper_bound:.4f}) years\")\n"
   ]
  },
  {
   "cell_type": "markdown",
   "metadata": {},
   "source": [
    "With 95% confidence, the population mean difference of the older twin's less the younger twin's self-reported education is estimated to be between lower_bound years and upper_bound years."
   ]
  },
  {
   "cell_type": "markdown",
   "metadata": {},
   "source": [
    "### Using SciPy and StatsModels"
   ]
  },
  {
   "cell_type": "code",
   "execution_count": 17,
   "metadata": {},
   "outputs": [
    {
     "name": "stdout",
     "output_type": "stream",
     "text": [
      "Confidence Interval using SciPy: (0.0029, 0.1651) years\n",
      "Confidence Interval using StatsModels: (-0.0593, 0.1728) years\n"
     ]
    }
   ],
   "source": [
    "import numpy as np\n",
    "import scipy.stats as stats\n",
    "import statsmodels.stats.api as sms\n",
    "\n",
    "# Given values from the image\n",
    "mean_diff = 0.084  # Mean difference (x̄_d)\n",
    "std_dev_diff = 0.76  # Standard deviation of differences (s_d)\n",
    "n = 340  # Sample size (n)\n",
    "confidence_level = 0.95  # Confidence level for 95%\n",
    "\n",
    "# Calculate the standard error of the mean difference\n",
    "standard_error_diff = std_dev_diff / np.sqrt(n)\n",
    "\n",
    "# Using SciPy to calculate the confidence interval\n",
    "ci_low, ci_up = stats.t.interval(confidence_level, df=n-1, loc=mean_diff, scale=standard_error_diff)\n",
    "\n",
    "# Using StatsModels to calculate the confidence interval\n",
    "cm = sms.CompareMeans(sms.DescrStatsW(np.random.normal(mean_diff, std_dev_diff, n)), \n",
    "                      sms.DescrStatsW(np.random.normal(mean_diff, std_dev_diff, n)))\n",
    "ci_low_sms, ci_up_sms = cm.tconfint_diff(usevar='unequal')\n",
    "\n",
    "print(f\"Confidence Interval using SciPy: ({ci_low:.4f}, {ci_up:.4f}) years\")\n",
    "print(f\"Confidence Interval using StatsModels: ({ci_low_sms:.4f}, {ci_up_sms:.4f}) years\")\n"
   ]
  },
  {
   "cell_type": "markdown",
   "metadata": {},
   "source": [
    "\n",
    "The SciPy and StatsModels libraries might give different confidence intervals (CIs) due to the way they handle the data and calculations internally, particularly if they're using different assumptions or default parameters in their calculations. Here are a few reasons why differences might arise:\n",
    "\n",
    "1. **Underlying Assumptions**: StatsModels might use a different method to estimate the variance (e.g., assuming equal or unequal variances in two samples when calculating confidence intervals for mean differences).\n",
    "\n",
    "2. **Data Handling**: The snippet provided uses simulated data for StatsModels, which could introduce variability. Normally, you would use actual data rather than simulated data to ensure consistency.\n",
    "\n",
    "3. **Defaults for Degrees of Freedom**: The method of calculating degrees of freedom may vary. Some methods adjust degrees of freedom based on sample size and variance, particularly in the case of two independent samples with potentially unequal variances.\n",
    "\n",
    "4. **Numerical Precision**: Differences in numerical precision can result from the specific algorithms used to calculate the t-scores and the standard error within each package.\n",
    "\n",
    "5. **Confidence Interval Estimation**: Some statistical packages might use a slightly different formula or method to calculate the confidence interval. For example, StatsModels provides several ways to calculate the confidence interval for the mean difference, including assuming equal variances (`usevar='pooled'`) or not (`usevar='unequal'`).\n",
    "\n",
    "To ensure consistency, it's important to use the same dataset and understand the default behaviors and assumptions of the statistical functions you are using. If precise control over the calculation method is required, you should manually specify the parameters to match your statistical model's assumptions.\n"
   ]
  },
  {
   "cell_type": "markdown",
   "metadata": {},
   "source": [
    "## Estimating a Difference in Population Means for Independent Groups\n",
    "\n",
    "Here are the steps to estimate a difference in population means with confidence for two independent groups:\n",
    "\n",
    "1. **Identify the Populations and Parameter of Interest**: \n",
    "   - Specify the populations you are comparing (e.g., Mexican-American adults aged 18 to 29 living in the United States).\n",
    "   - Define the parameter of interest (e.g., BMI measured in kilograms per meter squared).\n",
    "   - Use symbols $ \\mu_1 $ and $ \\mu_2 $ to represent the means of the two populations, and focus on the difference $ \\mu_1 - \\mu_2 $.\n",
    "\n",
    "2. **Collect Samples and Calculate Descriptive Statistics**: \n",
    "   - Sample the two populations separately according to the characteristic of interest (e.g., gender from the NHANES dataset).\n",
    "   - Calculate the mean, standard deviation, minimum, maximum, and sample size for both sub-groups.\n",
    "\n",
    "3. **Understand the Distribution of Sample Mean Differences**: \n",
    "   - Recognize that the sample mean will vary from sample to sample, creating a sampling distribution.\n",
    "   - Note that if both population responses are approximately normal or sample sizes are large, the distribution of the difference in sample means will be approximately normal.\n",
    "\n",
    "4. **Estimate the Standard Error**: \n",
    "   - Acknowledge that we often don't know true population variances, so we estimate them using sample variances.\n",
    "   - Use the formula for standard error involving the sample standard deviations and sizes of both groups.\n",
    "\n",
    "5. **Construct the Confidence Interval**: \n",
    "   - Start with the difference in sample means as the best estimate.\n",
    "   - Add and subtract the margin of error, which is a multiple of the estimated standard error.\n",
    "   - Use a t-score multiplier from the t-distribution corresponding to the desired confidence level.\n",
    "\n",
    "6. **Choose the Correct Approach—Pooled or Unpooled**: \n",
    "   - If population variances are assumed to be equal, use the pooled approach; otherwise, use the unpooled approach.\n",
    "   - For the pooled approach, combine the variances of the two samples.\n",
    "   - For the unpooled approach, keep the variances separate.\n",
    "\n",
    "7. **Interpret the Confidence Interval**: \n",
    "   - Understand that the interval provides a range of reasonable values for the parameter of interest.\n",
    "   - The confidence level indicates the proportion of such intervals that would contain the true population mean difference if the procedure were repeatedly applied.\n",
    "\n",
    "8. **Verify Assumptions**: \n",
    "   - Ensure both samples are simple random samples and independent of each other.\n",
    "   - Check for normality using graphical methods like histograms and Q-Q plots.\n",
    "   - Apply the Central Limit Theorem if sample sizes are large to justify normality.\n",
    "\n",
    "9. **Decide on Variance Equality**: \n",
    "   - Inspect sample variances and interquartile ranges to assess whether population variances can be assumed equal.\n",
    "   - Choose the pooled method if variances are similar, or the unpooled method if not.\n",
    "\n",
    "10. **Calculate and Interpret the Final Confidence Interval**: \n",
    "    - Use the chosen method to calculate the confidence interval for the difference in population means.\n",
    "    - Communicate the results, stating the range and confidence level clearly.\n",
    "\n",
    "Each of these steps provides the framework for estimating the difference in population means with confidence, ensuring a robust statistical analysis of two independent groups.\n",
    "\n",
    "\n",
    "The image you've uploaded appears to contain a slide from a presentation that outlines a research question. It reads:\n",
    "\n",
    "---\n",
    "\n",
    "### Research Question\n",
    "\n",
    "Considering Mexican-American adults (ages 18 - 29) living in the United States, do males and females differ significantly in mean Body Mass Index (BMI)?\n",
    "\n",
    "- Population: Mexican-American adults (ages 18 - 29) in the U.S.\n",
    "- Parameter of Interest (μ1 - μ2): Body Mass Index or BMI (kg/m²)\n",
    "\n",
    "---\n",
    "\n",
    "To address this research question, we would typically follow a series of steps:\n",
    "\n",
    "1. **Hypothesis Formulation**: Based on the parameter of interest, which is the difference in mean BMI between males (μ1) and females (μ2), we would set up the null hypothesis (H0: μ1 - μ2 = 0) indicating no difference and the alternative hypothesis (H1: μ1 - μ2 ≠ 0) indicating a significant difference.\n",
    "\n",
    "2. **Data Collection**: Gather a representative sample of Mexican-American adults, ensuring a balanced representation of males and females aged 18-29.\n",
    "\n",
    "3. **Data Analysis**: Calculate the mean BMI for both groups and perform a hypothesis test, such as an independent t-test, to evaluate the difference in means.\n",
    "\n",
    "4. **Result Interpretation**: Determine if the observed difference is statistically significant based on the p-value and the pre-determined level of significance (commonly α = 0.05).\n",
    "\n",
    "5. **Conclusion**: Draw conclusions from the statistical analysis and relate them back to the research question.\n",
    "\n",
    "If we have access to a dataset containing the relevant information, I can assist with the Python code to perform the necessary statistical analysis. Please let me know if you would like to proceed with this, or if there is another aspect of this research question you would like to explore.\n"
   ]
  },
  {
   "cell_type": "code",
   "execution_count": 18,
   "metadata": {},
   "outputs": [
    {
     "name": "stdout",
     "output_type": "stream",
     "text": [
      "Mean BMI for males: 25.61\n",
      "Mean BMI for females: 25.23\n",
      "T-statistic: 0.29\n",
      "P-value: 0.7735\n",
      "We fail to reject the null hypothesis, suggesting no significant difference in BMI between genders.\n"
     ]
    }
   ],
   "source": [
    "# Step 1: Import necessary libraries\n",
    "import pandas as pd\n",
    "from scipy import stats\n",
    "\n",
    "# Step 2: Load your dataset\n",
    "# Assuming you have a CSV file named 'data.csv' with columns 'age', 'gender', 'bmi'\n",
    "# data = pd.read_csv('path_to_your_data.csv')\n",
    "\n",
    "# For demonstration purposes, let's create a mock DataFrame\n",
    "# Replace this mock data with your actual data\n",
    "data = pd.DataFrame({\n",
    "    'age': [18, 20, 29] * 20,  # Mock ages\n",
    "    'gender': ['male', 'female'] * 30,  # Mock genders\n",
    "    'bmi': np.random.normal(25, 5, 60)  # Mock BMIs with a mean of 25 and std dev of 5\n",
    "})\n",
    "\n",
    "# Step 3: Clean and format the data if necessary\n",
    "# Ensure that the 'gender' column is categorized properly\n",
    "data['gender'] = data['gender'].astype('category')\n",
    "\n",
    "# Filter the dataset for the age range 18-29\n",
    "data = data[(data['age'] >= 18) & (data['age'] <= 29)]\n",
    "\n",
    "# Step 4: Separate the data into two groups\n",
    "male_bmi = data[data['gender'] == 'male']['bmi']\n",
    "female_bmi = data[data['gender'] == 'female']['bmi']\n",
    "\n",
    "# Step 5: Calculate the mean BMI for each group\n",
    "mean_male_bmi = male_bmi.mean()\n",
    "mean_female_bmi = female_bmi.mean()\n",
    "\n",
    "# Step 6: Perform an independent t-test\n",
    "t_stat, p_value = stats.ttest_ind(male_bmi, female_bmi)\n",
    "\n",
    "# Output the results\n",
    "print(f\"Mean BMI for males: {mean_male_bmi:.2f}\")\n",
    "print(f\"Mean BMI for females: {mean_female_bmi:.2f}\")\n",
    "print(f\"T-statistic: {t_stat:.2f}\")\n",
    "print(f\"P-value: {p_value:.4f}\")\n",
    "\n",
    "# Based on the p-value, determine if the result is statistically significant\n",
    "alpha = 0.05  # Common significance level\n",
    "if p_value < alpha:\n",
    "    print(\"We reject the null hypothesis, suggesting a significant difference in BMI between genders.\")\n",
    "else:\n",
    "    print(\"We fail to reject the null hypothesis, suggesting no significant difference in BMI between genders.\")\n"
   ]
  },
  {
   "cell_type": "code",
   "execution_count": 19,
   "metadata": {},
   "outputs": [
    {
     "data": {
      "text/plain": [
       "<Figure size 800x600 with 0 Axes>"
      ]
     },
     "metadata": {},
     "output_type": "display_data"
    },
    {
     "data": {
      "image/png": "[encoded data removed]",
      "text/plain": [
       "<Figure size 640x480 with 1 Axes>"
      ]
     },
     "metadata": {},
     "output_type": "display_data"
    }
   ],
   "source": [
    "import matplotlib.pyplot as plt\n",
    "import numpy as np\n",
    "import pandas as pd\n",
    "\n",
    "# Assuming you have a DataFrame 'data' with 'gender' and 'bmi' columns\n",
    "\n",
    "# Create a box plot\n",
    "plt.figure(figsize=(8, 6))  # Set the figure size\n",
    "boxplot = data.boxplot(column='bmi', by='gender')\n",
    "plt.title('BMI Distribution by Gender')\n",
    "plt.suptitle('')  # Suppress the default title\n",
    "plt.xlabel('Gender')\n",
    "plt.ylabel('BMI')\n",
    "\n",
    "# Show the plot\n",
    "plt.show()\n"
   ]
  },
  {
   "cell_type": "code",
   "execution_count": 20,
   "metadata": {},
   "outputs": [
    {
     "data": {
      "image/png": "[encoded data removed]",
      "text/plain": [
       "<Figure size 800x600 with 1 Axes>"
      ]
     },
     "metadata": {},
     "output_type": "display_data"
    }
   ],
   "source": [
    "import seaborn as sns\n",
    "\n",
    "# Create a box plot with Seaborn\n",
    "plt.figure(figsize=(8, 6))\n",
    "sns.boxplot(x='gender', y='bmi', data=data)\n",
    "plt.title('BMI Distribution by Gender')\n",
    "plt.xlabel('Gender')\n",
    "plt.ylabel('BMI')\n",
    "\n",
    "# Show the plot\n",
    "plt.show()\n"
   ]
  },
  {
   "cell_type": "code",
   "execution_count": 21,
   "metadata": {},
   "outputs": [
    {
     "data": {
      "image/png": "[encoded data removed]",
      "text/plain": [
       "<Figure size 1000x600 with 1 Axes>"
      ]
     },
     "metadata": {},
     "output_type": "display_data"
    }
   ],
   "source": [
    "import numpy as np\n",
    "import matplotlib.pyplot as plt\n",
    "from scipy.stats import norm\n",
    "\n",
    "# Parameters for the sampling distribution\n",
    "# For demonstration, we assume the following:\n",
    "# The difference in population means is 0 under the null hypothesis\n",
    "mu_diff = 0\n",
    "# Standard deviation of the sampling distribution, assumed to be 1 for this example\n",
    "sigma_diff = 1\n",
    "# Sample size for illustration\n",
    "sample_size = 1000\n",
    "\n",
    "# Generate a sampling distribution of the difference in means\n",
    "sample_diff_means = np.random.normal(mu_diff, sigma_diff, sample_size)\n",
    "\n",
    "# Plot the distribution\n",
    "plt.figure(figsize=(10, 6))\n",
    "plt.hist(sample_diff_means, bins=30, density=True, alpha=0.6, color='b')\n",
    "\n",
    "# Plot the normal distribution curve\n",
    "xmin, xmax = plt.xlim()\n",
    "x = np.linspace(xmin, xmax, 100)\n",
    "p = norm.pdf(x, mu_diff, sigma_diff)\n",
    "plt.plot(x, p, 'k', linewidth=2)\n",
    "\n",
    "title = \"Sampling Distribution of the Difference in Two Independent Sample Means\"\n",
    "plt.title(title)\n",
    "plt.xlabel('Difference in sample means')\n",
    "plt.ylabel('Frequency')\n",
    "plt.show()\n"
   ]
  },
  {
   "cell_type": "markdown",
   "metadata": {},
   "source": [
    "The graph above illustrates the sampling distribution of the difference in two independent sample means. It shows a normal distribution centered around zero, which is what we'd expect under the null hypothesis that there is no difference between the two population means ($\\mu_1 - \\mu_2 = 0$).\n",
    "\n",
    "The histogram represents the frequency of various differences observed in the sample means, while the black curve is the probability density function of a normal distribution with the mean ($\\mu_{diff}$) set to 0 and a standard deviation ($\\sigma_{diff}$) assumed to be 1 for this example. This visual representation helps us understand the variability we might expect by chance when estimating the difference between two means from independent samples.\n",
    "\n",
    "In the context of a real-world application, such as comparing BMI between genders, you would calculate the actual standard deviation of the sampling distribution based on the sample data and the sample sizes of the groups being compared. This would then inform your hypothesis testing, allowing you to determine the likelihood of observing the sample mean difference if the null hypothesis were true."
   ]
  },
  {
   "cell_type": "markdown",
   "metadata": {},
   "source": [
    "The image you've uploaded depicts a concept from inferential statistics known as the \"Sampling Distribution of the Difference in Two (Independent) Sample Means\". This concept is pivotal when comparing the means from two independent groups to determine if there is a statistically significant difference between them.\n",
    "\n",
    "The key points outlined in the image are:\n",
    "\n",
    "1. If both populations of responses have distributions that are approximately normal, or if the sample sizes are large enough, then the distribution of the difference in sample means is also approximately normal.\n",
    "2. The center of this sampling distribution is at the difference in population means $\\mu_1 - \\mu_2$.\n",
    "3. The distribution allows for the calculation of the probability of observing a sample mean difference as extreme as, or more extreme than, the one observed.\n",
    "\n",
    "In the context of the previous discussion about BMI across genders, the sampling distribution would be used to estimate the likelihood of observing the difference in mean BMIs between males and females under the null hypothesis that there is no true difference in the population means.\n",
    "\n",
    "Calculation of the standard error for the sampling distribution of the difference between two independent sample means. The standard error is a measure of the variability of the sampling distribution and is crucial when conducting hypothesis tests or constructing confidence intervals.\n",
    "\n",
    "The standard error formula for the difference between two independent means is provided in the image as:\n",
    "\n",
    "$SE = \\sqrt{\\frac{{\\sigma_1}^2}{n_1} + \\frac{{\\sigma_2}^2}{n_2}}$\n",
    "\n",
    "Where:\n",
    "- $\\sigma_1^2$ and $\\sigma_2^2$ are the population variances of the first and second groups, respectively.\n",
    "- $n_1$ and $n_2$ are the sample sizes of the first and second groups, respectively.\n",
    "\n",
    "Since population variances are rarely known, we use sample variances $s_1^2$ and $s_2^2$ to estimate the standard error:\n",
    "\n",
    "$Estimated\\:SE = \\sqrt{\\frac{{s_1}^2}{n_1} + \\frac{{s_2}^2}{n_2}}$\n",
    "\n",
    "This estimated standard error is used to calculate test statistics like the t-statistic in an independent samples t-test, or to construct confidence intervals for the difference between the two means.\n",
    "\n",
    "Would you like to see how to calculate this estimated standard error using Python, given sample data?"
   ]
  },
  {
   "cell_type": "code",
   "execution_count": 22,
   "metadata": {},
   "outputs": [
    {
     "data": {
      "text/plain": [
       "(95.84228852695097, 104.15771147304903)"
      ]
     },
     "execution_count": 22,
     "metadata": {},
     "output_type": "execute_result"
    }
   ],
   "source": [
    "import scipy.stats as stats\n",
    "import numpy as np\n",
    "\n",
    "# Given values\n",
    "sample_mean = 100  # The sample mean (x̄)\n",
    "pop_std = 15       # Population standard deviation (σ)\n",
    "n = 50             # Sample size (n)\n",
    "confidence_level = 0.95  # Confidence level\n",
    "\n",
    "# Calculate the z-score for the given confidence level\n",
    "z_score = stats.norm.ppf((1 + confidence_level) / 2)\n",
    "\n",
    "# Calculate the standard error of the mean (SEM)\n",
    "sem = pop_std / np.sqrt(n)\n",
    "\n",
    "# Calculate the margin of error (MOE)\n",
    "moe = z_score * sem\n",
    "\n",
    "# Calculate the confidence interval\n",
    "ci_lower = sample_mean - moe\n",
    "ci_upper = sample_mean + moe\n",
    "\n",
    "(ci_lower, ci_upper)\n"
   ]
  },
  {
   "cell_type": "markdown",
   "metadata": {},
   "source": [
    "There are two different approaches to constructing confidence intervals when dealing with two populations:\n",
    "\n",
    "1. **Pooled Approach**: This method assumes that the variances of the two populations are equal. Mathematically, this is denoted as $ \\sigma_1^2 = \\sigma_2^2 $, where $ \\sigma_1^2 $ and $ \\sigma_2^2 $ represent the population variances of the first and second populations, respectively.\n",
    "\n",
    "2. **Unpooled Approach**: This method does not assume that the variances of the two populations are equal. It is used when the assumption of equal variances (homogeneity of variance) is not tenable.\n",
    "\n",
    "When calculating a confidence interval for the difference between two means, the choice between a pooled and unpooled approach depends on the results of a test for equal variances (such as Levene's test or an F-test). If the test suggests that the variances are equal, a pooled approach is typically used, which leads to a simpler formula and a more precise confidence interval. If the variances are not equal, the unpooled approach is used, which adjusts the degrees of freedom and the standard error to account for the difference in variance.\n",
    "\n",
    "\n",
    "\n",
    "**Pooled approach**\n",
    "\n",
    "Pooled confidence intervals are appropriate when the two populations are assumed to have equal variances.\n",
    "\n",
    "The formula presented is:\n",
    "\n",
    "$$\n",
    "(\\bar{x}_1 - \\bar{x}_2) \\pm t^* \\cdot \\sqrt{\\frac{(n_1-1)s_1^2 + (n_2-1)s_2^2}{n_1 + n_2 - 2} \\left( \\frac{1}{n_1} + \\frac{1}{n_2} \\right)}\n",
    "$$\n",
    "\n",
    "In this formula:\n",
    "\n",
    "- $\\bar{x}_1$ and $\\bar{x}_2$ are the sample means.\n",
    "- $s_1^2$ and $s_2^2$ are the sample variances.\n",
    "- $n_1$ and $n_2$ are the sample sizes.\n",
    "- $t^*$ is the t-score from the t-distribution that corresponds to the desired confidence level.\n",
    "- $n_1 + n_2 - 2$ gives the degrees of freedom for the t-distribution.\n",
    "\n",
    "This approach assumes that the population variances are equal, which is why the variances are pooled together in the calculation.\n",
    "\n",
    "\n",
    "\n",
    "To interpret the results of the 95% confidence interval calculation for the difference in mean BMI between male and female Mexican-American adults, we use the final image you've uploaded which contains the summary statistics and the formula for the confidence interval.\n",
    "\n",
    "Here are the summary statistics given:\n",
    "\n",
    "- Mean BMI for males: 23.57\n",
    "- Mean BMI for females: 22.83\n",
    "- Standard deviation for males: 6.24\n",
    "- Standard deviation for females: 6.43\n",
    "- Sample size for males: 258\n",
    "- Sample size for females: 239\n",
    "\n",
    "The formula for the 95% confidence interval using the pooled variance approach is:\n",
    "\n",
    "$$\n",
    "(23.57 - 22.83) \\pm 1.98 \\cdot \\sqrt{\\frac{(258-1) \\cdot 6.24^2 + (239-1) \\cdot 6.43^2}{258+239-2} \\left( \\frac{1}{258} + \\frac{1}{239} \\right)}\n",
    "$$\n",
    "\n",
    "The $t^* $ value of 1.98 is the t-score corresponding to a 95% confidence interval for the given degrees of freedom (which would be $ 258+239-2 $ in this case).\n",
    "\n",
    "Let's calculate the exact values for the confidence interval.\n",
    "\n",
    "The difference in the mean BMI between male and female Mexican-American adults is approximately 0.74. The 95% confidence interval for this difference ranges from approximately -0.38 to 1.86. This interval means we are 95% confident that the true difference in mean BMIs between the two populations lies within this range.\n",
    "\n",
    "Since the confidence interval includes zero, it suggests that there may not be a statistically significant difference in the mean BMI between male and female Mexican-American adults. If the interval had not included zero, it would indicate a significant difference.\n",
    "\n",
    "However, it's important to note that while the confidence interval provides valuable information about the difference in means and its uncertainty, it does not test a specific hypothesis about the means being equal or not. For that, a hypothesis test such as an independent samples t-test would be more appropriate. Additionally, the fact that the confidence interval is not symmetric around the observed difference in means is a consequence of the sample sizes and variances from each group contributing differently to the pooled standard error."
   ]
  },
  {
   "cell_type": "code",
   "execution_count": 23,
   "metadata": {},
   "outputs": [
    {
     "name": "stdout",
     "output_type": "stream",
     "text": [
      "Difference in Means: 0.74\n",
      "Margin of Error: 1.12\n",
      "95% Confidence Interval: (-0.38, 1.86)\n"
     ]
    }
   ],
   "source": [
    "import scipy.stats as stats\n",
    "import numpy as np\n",
    "\n",
    "# Given values\n",
    "average_weight_male = 23.57\n",
    "average_weight_female = 22.83\n",
    "standard_deviation_male = 6.24\n",
    "standard_deviation_female = 6.43\n",
    "sample_size_male = 258\n",
    "sample_size_female = 239\n",
    "\n",
    "# Calculate the pooled standard deviation\n",
    "pooled_variance = (((sample_size_male - 1) * standard_deviation_male ** 2) + \n",
    "                   ((sample_size_female - 1) * standard_deviation_female ** 2)) / (sample_size_male + sample_size_female - 2)\n",
    "pooled_standard_deviation = np.sqrt(pooled_variance)\n",
    "\n",
    "# Calculate the standard error\n",
    "standard_error = np.sqrt(pooled_variance * (1/sample_size_male + 1/sample_size_female))\n",
    "\n",
    "# Degrees of freedom for the t-distribution\n",
    "degrees_freedom = sample_size_male + sample_size_female - 2\n",
    "\n",
    "# Calculate the t-score for a 95% confidence interval (two-tailed test)\n",
    "t_score = stats.t.ppf(1 - 0.025, degrees_freedom)\n",
    "\n",
    "# Calculate the margin of error\n",
    "margin_of_error = t_score * standard_error\n",
    "\n",
    "# Calculate the confidence interval\n",
    "difference_in_means = average_weight_male - average_weight_female\n",
    "confidence_interval_lower = difference_in_means - margin_of_error\n",
    "confidence_interval_upper = difference_in_means + margin_of_error\n",
    "\n",
    "# Output the results\n",
    "print(f\"Difference in Means: {difference_in_means:.2f}\")\n",
    "print(f\"Margin of Error: {margin_of_error:.2f}\")\n",
    "print(f\"95% Confidence Interval: ({confidence_interval_lower:.2f}, {confidence_interval_upper:.2f})\")\n"
   ]
  },
  {
   "cell_type": "markdown",
   "metadata": {},
   "source": [
    "**Unpooled approach**\n",
    "\n",
    "The image you have uploaded appears to show a slide from a statistical presentation on how to calculate unpooled confidence intervals for the difference between two sample means. The formula provided is the standard formula for an unpooled (also known as Welch's) t-confidence interval, which is used when the two populations are assumed to have unequal variances.\n",
    "\n",
    "The formula for the confidence interval is given by:\n",
    "\n",
    "$$\n",
    "(\\bar{x}_1 - \\bar{x}_2) \\pm t^* \\cdot \\sqrt{\\frac{{s_1}^2}{n_1} + \\frac{{s_2}^2}{n_2}}\n",
    "$$\n",
    "\n",
    "Here, $\\bar{x}_1$ and $\\bar{x}_2$ are the sample means, $s_1^2$ and $s_2^2$ are the sample variances, $n_1$ and $n_2$ are the sample sizes, and $t^*$ is the t-score from the t-distribution that corresponds to the desired confidence level.\n",
    "\n",
    "The degrees of freedom ($df$) for the $t^*$ multiplier can be found using Welch's approximation. If technology to calculate this is not available, the slide suggests a conservative approach can be taken by using the smaller of $n_1 - 1$ and $n_2 - 1$ (i.e., $df = \\min(n_1 - 1, n_2 - 1)$).\n",
    "\n",
    "\n",
    "For the unpooled approach, we modify the calculation of the standard error and the degrees of freedom. This approach is used when we cannot assume that the two populations have equal variances. The steps involved are:\n",
    "\n",
    "1. **Calculate the Standard Error**: Unlike the pooled approach, the standard error in the unpooled approach is calculated separately for each group and then combined.\n",
    "\n",
    "2. **Degrees of Freedom**: The Welch-Satterthwaite equation is used to approximate the degrees of freedom, as it accounts for the difference in variances and sample sizes of the two groups.\n",
    "\n",
    "Here's the updated formula and Python code for the unpooled approach:\n",
    "\n",
    "### Unpooled Standard Error Formula\n",
    "The standard error for the difference in means is calculated as:\n",
    "$$\\text{Standard Error} = \\sqrt{\\frac{s_1^2}{n_1} + \\frac{s_2^2}{n_2}}$$\n",
    "where $ s_1 $ and $ s_2 $ are the standard deviations of the two groups, and $ n_1 $ and $ n_2 $ are the sample sizes.\n",
    "\n",
    "### Degrees of Freedom Formula\n",
    "The degrees of freedom are approximated using the Welch-Satterthwaite equation:\n",
    "$$df = \\frac{\\left( \\frac{s_1^2}{n_1} + \\frac{s_2^2}{n_2} \\right)^2}{\\frac{(\\frac{s_1^2}{n_1})^2}{n_1 - 1} + \\frac{(\\frac{s_2^2}{n_2})^2}{n_2 - 1}}$$\n"
   ]
  },
  {
   "cell_type": "code",
   "execution_count": 24,
   "metadata": {},
   "outputs": [
    {
     "name": "stdout",
     "output_type": "stream",
     "text": [
      "Difference in Means: 0.74\n",
      "Margin of Error (Unpooled): 1.12\n",
      "95% Confidence Interval (Unpooled): (-0.38, 1.86)\n"
     ]
    }
   ],
   "source": [
    "import scipy.stats as stats\n",
    "import numpy as np\n",
    "\n",
    "# Given values\n",
    "average_weight_male = 23.57\n",
    "average_weight_female = 22.83\n",
    "standard_deviation_male = 6.24\n",
    "standard_deviation_female = 6.43\n",
    "sample_size_male = 258\n",
    "sample_size_female = 239\n",
    "\n",
    "# Calculate the standard error (unpooled)\n",
    "se_male = standard_deviation_male ** 2 / sample_size_male\n",
    "se_female = standard_deviation_female ** 2 / sample_size_female\n",
    "standard_error_unpooled = np.sqrt(se_male + se_female)\n",
    "\n",
    "# Degrees of freedom (Welch-Satterthwaite equation)\n",
    "df_unpooled = ((se_male + se_female) ** 2) / \\\n",
    "              ((se_male ** 2 / (sample_size_male - 1)) + (se_female ** 2 / (sample_size_female - 1)))\n",
    "\n",
    "# Calculate the t-score for a 95% confidence interval (two-tailed test)\n",
    "t_score_unpooled = stats.t.ppf(1 - 0.025, df_unpooled)\n",
    "\n",
    "# Calculate the margin of error\n",
    "margin_of_error_unpooled = t_score_unpooled * standard_error_unpooled\n",
    "\n",
    "# Calculate the confidence interval\n",
    "confidence_interval_lower_unpooled = difference_in_means - margin_of_error_unpooled\n",
    "confidence_interval_upper_unpooled = difference_in_means + margin_of_error_unpooled\n",
    "\n",
    "# Output the results\n",
    "print(f\"Difference in Means: {difference_in_means:.2f}\")\n",
    "print(f\"Margin of Error (Unpooled): {margin_of_error_unpooled:.2f}\")\n",
    "print(f\"95% Confidence Interval (Unpooled): ({confidence_interval_lower_unpooled:.2f}, {confidence_interval_upper_unpooled:.2f})\")"
   ]
  },
  {
   "cell_type": "markdown",
   "metadata": {},
   "source": [
    "The results from the Python code can be interpreted as follows:\n",
    "\n",
    "1. **Difference in Means**: The calculated difference in means between the two groups (males and females, in this context) is 0.74. This suggests that, on average, the characteristic being measured (possibly weight, given the context) for males is 0.74 units higher than that for females.\n",
    "\n",
    "2. **Margin of Error (Unpooled)**: The margin of error, calculated using the unpooled approach, is 1.12. This value provides an indication of the uncertainty associated with the difference in means. The larger the margin of error, the greater the uncertainty.\n",
    "\n",
    "3. **95% Confidence Interval (Unpooled)**: The 95% confidence interval, ranging from -0.38 to 1.86, gives a range of values within which we can be 95% confident that the true difference in means lies. Since this interval includes both negative and positive values, it indicates that the data does not provide strong evidence for a definitive difference in the means of the two groups. In other words, while the average measure for males might be higher than for females, the statistical evidence is not strong enough to conclusively support this claim at the 95% confidence level.\n",
    "\n",
    "    - The inclusion of zero in this interval suggests that there's a significant possibility that there might be no real difference in the characteristic being measured between the two groups.\n",
    "\n",
    "In summary, while the observed data shows a mean difference of 0.74 in favor of males, the statistical uncertainty (as shown by the margin of error and the confidence interval) is too high to conclusively state that this difference is significant. This is a common scenario in statistical analysis, where the observed effect (difference in means) is not sufficiently supported by the data to draw a firm conclusion, especially in the presence of variability (as indicated by the wide confidence interval). \n",
    "\n",
    "With 95% confidence, the difference in mean body mass index between males and females for all Mexican-American adults (ages 18 - 29) in the\n",
    "U.S. is estimated to be between -0.385 kg/m2 and 1.865 kg/m2."
   ]
  },
  {
   "cell_type": "markdown",
   "metadata": {},
   "source": [
    "The text provides a comprehensive overview of confidence intervals (CIs), their construction, and considerations affecting their performance. Here's a summarized version:\n",
    "\n",
    "1. **Definition and Purpose of Confidence Intervals (CIs)**: A CI is an interval (a, b) constructed from data to cover an unknown population parameter with high probability. For instance, a CI around an estimated mean BMI might cover the true mean with a set probability (e.g., 95%).\n",
    "\n",
    "2. **Construction and Coverage Probability**: CIs are defined by their lower and upper confidence bounds (LCB, UCB). The coverage probability (typically 95%) reflects the likelihood that the CI will cover the true parameter value, θ, across repeated sampling.\n",
    "\n",
    "3. **Width of the Interval**: The width of the CI is a balance between coverage probability and informativeness. Wider intervals have a higher chance of covering the target but are less informative.\n",
    "\n",
    "4. **Actual vs. Nominal Coverage Probability**: In practice, a CI's actual coverage probability may differ from the intended (nominal) level, being either conservative (overestimate) or anti-conservative (underestimate). \n",
    "\n",
    "5. **One Sample, One CI**: It's critical to understand that for any given sample, the derived CI either covers or fails to cover the target value, and this fact is binary, not probabilistic.\n",
    "\n",
    "6. **Verification Challenges**: Verifying that a CI achieves its intended coverage probability in practice is difficult, often relying on theoretical properties and computer simulations.\n",
    "\n",
    "7. **CI Construction Elements**: CIs generally use an unbiased estimate of a population parameter and the standard error of this estimate. They often take the form \"point estimate ± K standard errors,\" where K is determined to achieve the desired coverage level.\n",
    "\n",
    "8. **Methods to Determine K**:\n",
    "   - **Normal Distribution Assumption**: Assumes data are normally distributed, using the Student-t distribution for K.\n",
    "   - **Central Limit Theorem (CLT)**: Applies when data are not normally distributed but are sufficiently large in sample size. \n",
    "\n",
    "9. **Sample Size and Normality**: The applicability of normality assumptions and the CLT depends on the sample size and the distribution of the data.\n",
    "\n",
    "10. **Alternative Approaches for Challenging Data**:\n",
    "    - **Agresti-Coull Interval**: Adjusts sample proportions for small sample sizes.\n",
    "    - **Transformation Techniques**: Applies transformations to skewed data to improve CI performance.\n",
    "\n",
    "11. **Conclusion**: Normality is not always crucial for CI performance, except in cases of small sample sizes or extreme non-normality. Other factors like data clustering or multiplicity can more significantly affect CI coverage probabilities.\n",
    "\n",
    "This summary encapsulates the key points about confidence intervals, their interpretation, and factors influencing their accuracy and reliability."
   ]
  },
  {
   "cell_type": "markdown",
   "metadata": {},
   "source": [
    "The standard error of an estimate is crucial in gauging the precision of statistical estimates, which in turn impacts the quality of inferences made about a population parameter. The uploaded figure illustrates the effects of sample size and cluster size on the standard error of an estimate for a population mean. Here’s a summary based on the provided text and the figure:\n",
    "\n",
    "1. **Variance of Variables**: Higher variability in the data leads to higher standard errors, emphasizing the need for precise measurement in studies.\n",
    "\n",
    "2. **Sample Size**: Larger sample sizes reduce standard errors, yielding more precise estimates. However, large data sets do not inherently ensure precision, especially if they include significant outliers.\n",
    "\n",
    "3. **Dependence in Observations**: Cluster sampling, where observations within clusters are not independent, can inflate standard errors because the effective sample size is smaller than it appears. This is evident in the larger spread of sampling distributions with larger cluster sizes, as shown in the figure.\n",
    "\n",
    "4. **Stratification**: Stratifying the sample can increase the precision of estimates by reducing variability due to differences between strata.\n",
    "\n",
    "5. **Sampling Weights**: While necessary for unbiased estimates, the use of sampling weights can increase the variance, particularly if there is high variability in the weights themselves.\n",
    "\n",
    "The figure supports these points by showing that:\n",
    "- As the sample size increases (from n = 500 to n = 5000), the sampling distributions become narrower, indicating lower standard errors.\n",
    "- As the cluster size increases (from no clusters to clusters of size 50), the sampling distributions become wider, indicating higher standard errors.\n",
    "\n",
    "In conclusion, to achieve more precise estimates with smaller standard errors, one must consider the variability of the data, ensure a sufficiently large and well-stratified sample, carefully manage the cluster effects, and appropriately use sampling weights."
   ]
  },
  {
   "cell_type": "code",
   "execution_count": 25,
   "metadata": {},
   "outputs": [
    {
     "data": {
      "image/png": "[encoded data removed]",
      "text/plain": [
       "<Figure size 1400x800 with 9 Axes>"
      ]
     },
     "metadata": {},
     "output_type": "display_data"
    }
   ],
   "source": [
    "# Function to simulate sampling distributions and plot the results with fixed scales\n",
    "def simulate_sampling_distributions_fixed_scales(n_samples, cluster_sizes, n_simulations=10000):\n",
    "    # Setting a random seed for reproducibility\n",
    "    np.random.seed(0)\n",
    "\n",
    "    # Creating subplots\n",
    "    fig, axes = plt.subplots(nrows=3, ncols=3, figsize=(14, 8))\n",
    "\n",
    "    # Defining the true population mean and standard deviation\n",
    "    population_mean = 25\n",
    "    population_std = 15\n",
    "\n",
    "    # Initial values for fixed axes scales\n",
    "    y_max = 0  # Will store the maximum y-value to set the same scale for y-axis across all plots\n",
    "    x_min = float('inf')  # Will store the minimum x-value for x-axis scale\n",
    "    x_max = float('-inf')  # Will store the maximum x-value for x-axis scale\n",
    "\n",
    "    # First pass to find common scales\n",
    "    for n in n_samples:\n",
    "        for b in cluster_sizes:\n",
    "            means = []\n",
    "            for _ in range(n_simulations):\n",
    "                if b == 1:  # Simple random sampling (SRS)\n",
    "                    sample = np.random.normal(population_mean, population_std, n)\n",
    "                else:  # Cluster sampling\n",
    "                    clusters = np.random.normal(population_mean, population_std, n // b)\n",
    "                    sample = np.repeat(clusters, b)\n",
    "                    if len(sample) > n:  # Adjust if cluster sampling exceeds desired sample size\n",
    "                        sample = sample[:n]\n",
    "\n",
    "                means.append(np.mean(sample))\n",
    "\n",
    "            means = np.array(means)\n",
    "            count, bins = np.histogram(means, bins=30)\n",
    "            y_max = max(y_max, count.max())  # Update y_max if needed\n",
    "            x_min = min(x_min, bins.min())  # Update x_min if needed\n",
    "            x_max = max(x_max, bins.max())  # Update x_max if needed\n",
    "\n",
    "    # Use the found y_max to set y-axis limit, and (x_min, x_max) for x-axis limit\n",
    "    y_max = y_max / n_simulations * 20.5  # Convert count to density and add some padding\n",
    "    x_range = (x_min, x_max)\n",
    "\n",
    "    # Second pass to plot with fixed scales\n",
    "    for i, n in enumerate(n_samples):\n",
    "        for j, b in enumerate(cluster_sizes):\n",
    "            means = []\n",
    "            for _ in range(n_simulations):\n",
    "                if b == 1:  # Simple random sampling (SRS)\n",
    "                    sample = np.random.normal(population_mean, population_std, n)\n",
    "                else:  # Cluster sampling\n",
    "                    clusters = np.random.normal(population_mean, population_std, n // b)\n",
    "                    sample = np.repeat(clusters, b)\n",
    "                    if len(sample) > n:  # Adjust if cluster sampling exceeds desired sample size\n",
    "                        sample = sample[:n]\n",
    "\n",
    "                means.append(np.mean(sample))\n",
    "\n",
    "            means = np.array(means)\n",
    "            mean_of_means = np.mean(means)\n",
    "            std_of_means = np.std(means)\n",
    "\n",
    "            # Plotting the sampling distribution with fixed scales\n",
    "            ax = axes[i, j]\n",
    "            ax.hist(means, bins=30, density=True, color='skyblue', edgecolor='black', alpha=0.7)\n",
    "            # Overlaying the normal distribution\n",
    "            x = np.linspace(x_range[0], x_range[1], 100)\n",
    "            p = norm.pdf(x, mean_of_means, std_of_means)\n",
    "            ax.plot(x, p, 'k', linewidth=2)\n",
    "            title = f\"Mean = {mean_of_means:.5f}\\nSD = {std_of_means:.5f}\"\n",
    "            ax.set_title(title)\n",
    "            ax.grid(True)\n",
    "            ax.set_ylim(0, y_max)\n",
    "            ax.set_xlim(x_range)\n",
    "\n",
    "            # Only show y-axis labels for the leftmost plots\n",
    "            if j == 0:\n",
    "                ax.set_ylabel(f\"n={n}\")\n",
    "\n",
    "    # Adjust layout\n",
    "    plt.tight_layout()\n",
    "    plt.suptitle('Sampling Distributions with Fixed Scales', y=1.02)\n",
    "\n",
    "    # Column titles\n",
    "    for ax, column_title in zip(axes[0], ['SRS', 'Cluster Size, b=10', 'Cluster Size, b=50']):\n",
    "        ax.set_title(column_title)\n",
    "\n",
    "    # Save the figure\n",
    "    plt.savefig('sampling_distributions_fixed_scales.png')\n",
    "\n",
    "    return fig\n",
    "# Define the sample sizes and cluster sizes to simulate\n",
    "n_samples = [500, 1000, 5000]\n",
    "cluster_sizes = [1, 10, 50]\n",
    "\n",
    "\n",
    "# Generate the figure with fixed scales\n",
    "fig_fixed_scales = simulate_sampling_distributions_fixed_scales(n_samples, cluster_sizes)\n",
    "\n",
    "\n"
   ]
  }
 ],
 "metadata": {
  "kernelspec": {
   "display_name": "base",
   "language": "python",
   "name": "python3"
  },
  "language_info": {
   "codemirror_mode": {
    "name": "ipython",
    "version": 3
   },
   "file_extension": ".py",
   "mimetype": "text/x-python",
   "name": "python",
   "nbconvert_exporter": "python",
   "pygments_lexer": "ipython3",
   "version": "3.8.18"
  }
 },
 "nbformat": 4,
 "nbformat_minor": 2
}
