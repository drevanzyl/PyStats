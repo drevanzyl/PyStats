{
 "cells": [
  {
   "cell_type": "raw",
   "metadata": {},
   "source": [
    "---\n",
    "title: \"PyStats\"\n",
    "author: \"André van Zyl\"\n",
    "date: \"11/24/2023\"\n",
    "format:\n",
    "  docx:\n",
    "    toc: true\n",
    "    number-sections: true\n",
    "  html:\n",
    "    toc: true\n",
    "    number-sections: true\n",
    "jupyter: python3\n",
    "execute:\n",
    "  echo: true\n",
    "  warning: false\n",
    "---"
   ]
  },
  {
   "cell_type": "markdown",
   "metadata": {},
   "source": [
    "# Setup"
   ]
  },
  {
   "cell_type": "markdown",
   "metadata": {},
   "source": [
    "## Packages"
   ]
  },
  {
   "cell_type": "code",
   "execution_count": 1,
   "metadata": {},
   "outputs": [],
   "source": [
    "import warnings\n",
    "warnings.filterwarnings('ignore')\n",
    "import random\n",
    "import numpy as np\n",
    "import pandas as pd\n",
    "import matplotlib.pyplot as plt\n",
    "import seaborn as sns\n",
    "from IPython.display import display, Math\n",
    "from sympy import latex, symbols, diff\n",
    "import numpy as np\n",
    "pd.set_option('display.precision', 2)\n",
    "np.set_printoptions(precision=2)\n",
    "random.seed(1738)"
   ]
  },
  {
   "cell_type": "markdown",
   "metadata": {},
   "source": [
    "## Functions"
   ]
  },
  {
   "cell_type": "code",
   "execution_count": 2,
   "metadata": {},
   "outputs": [],
   "source": [
    "def round_values(numbers, precision):\n",
    "    \"\"\"\n",
    "    Rounds a list of numbers to a given precision.\n",
    "\n",
    "    Parameters:\n",
    "    numbers (list of float): The list of numbers to round.\n",
    "    precision (int): The number of decimal places to round each number to.\n",
    "\n",
    "    Returns:\n",
    "    list of float: The list of rounded numbers.\n",
    "    \"\"\"\n",
    "    return [round(num, precision) for num in numbers]"
   ]
  },
  {
   "cell_type": "markdown",
   "metadata": {},
   "source": [
    "# Population Proportion"
   ]
  },
  {
   "cell_type": "markdown",
   "metadata": {},
   "source": [
    "## One Proportion"
   ]
  },
  {
   "cell_type": "markdown",
   "metadata": {},
   "source": [
    "### Estimating Population Proportion\n",
    "\n",
    "A sample of 659 parents with a toddler was taken and asked if they used a car seat for all travel with their toddler. 540 parents responded 'yes' to this question. Calcualte the proportion and 95% CIs"
   ]
  },
  {
   "cell_type": "markdown",
   "metadata": {},
   "source": [
    "#### Normal Approximation Method\n",
    "\n",
    "$$\n",
    "\\hat{p} \\pm z \\sqrt{\\frac{\\hat{p}(1 - \\hat{p})}{n}}\n",
    "$$\n",
    "\n",
    "Breaking it down:\n",
    "\n",
    "* $\\hat{p}$ represents the sample proportion.\n",
    "* $z$ is the z-score corresponding to the confidence level (1.96 for 95% confidence).\n",
    "* $n$ is the sample size.\n",
    "* The square root term $\\sqrt{\\frac{\\hat{p}(1 - \\hat{p})}{n}}$ calculates the standard error of the sample proportion."
   ]
  },
  {
   "cell_type": "code",
   "execution_count": 3,
   "metadata": {},
   "outputs": [
    {
     "data": {
      "text/plain": [
       "[0.82, 0.79, 0.85]"
      ]
     },
     "execution_count": 3,
     "metadata": {},
     "output_type": "execute_result"
    }
   ],
   "source": [
    "\n",
    "# Given data\n",
    "count = 540  # number of parents who responded 'yes'\n",
    "nobs = 659   # total number of parents asked\n",
    "# Calculate the proportion\n",
    "proportion = count / nobs\n",
    "# Proportion as per the new information\n",
    "p_hat = proportion\n",
    "# Total number of parents surveyed\n",
    "n = nobs\n",
    "# Z-score for 95% confidence\n",
    "z = 1.96\n",
    "\n",
    "# Calculate the standard error\n",
    "se = np.sqrt(p_hat * (1 - p_hat) / n)\n",
    "\n",
    "# Calculate the 95% confidence interval using the given formula\n",
    "ci_lower = p_hat - z * se\n",
    "ci_upper = p_hat + z * se\n",
    "\n",
    "round_values([p_hat, ci_lower, ci_upper], 2)"
   ]
  },
  {
   "cell_type": "markdown",
   "metadata": {},
   "source": [
    "#### Exact (Binomial) Method"
   ]
  },
  {
   "cell_type": "code",
   "execution_count": 4,
   "metadata": {},
   "outputs": [
    {
     "data": {
      "text/plain": [
       "[0.82, 0.79, 0.85]"
      ]
     },
     "execution_count": 4,
     "metadata": {},
     "output_type": "execute_result"
    }
   ],
   "source": [
    "from statsmodels.stats.proportion import proportion_confint\n",
    "\n",
    "# Calculate the 95% confidence interval for the proportion\n",
    "# Method 'binom_test' is used for exact CI calculation appropriate for binomial distribution\n",
    "ci_low, ci_upp = proportion_confint(count, nobs, alpha=0.05, method='binom_test')\n",
    "\n",
    "round_values([proportion, ci_low, ci_upp], 2)"
   ]
  },
  {
   "cell_type": "markdown",
   "metadata": {},
   "source": [
    "### Sample Size Determination"
   ]
  },
  {
   "cell_type": "markdown",
   "metadata": {},
   "source": [
    "#### Normal Approximation Method\n",
    "\n",
    "$$MoE = \\frac{{1}}{\\sqrt{n}}$$"
   ]
  },
  {
   "cell_type": "code",
   "execution_count": 5,
   "metadata": {},
   "outputs": [
    {
     "data": {
      "text/plain": [
       "0.06565321642986127"
      ]
     },
     "execution_count": 5,
     "metadata": {},
     "output_type": "execute_result"
    }
   ],
   "source": [
    "moe = 1/np.sqrt(232)\n",
    "moe"
   ]
  },
  {
   "cell_type": "markdown",
   "metadata": {},
   "source": [
    "##### For 95% Confidence"
   ]
  },
  {
   "cell_type": "code",
   "execution_count": 6,
   "metadata": {},
   "outputs": [
    {
     "data": {
      "text/plain": [
       "1111"
      ]
     },
     "execution_count": 6,
     "metadata": {},
     "output_type": "execute_result"
    }
   ],
   "source": [
    "# Margin of Error (MoE)\n",
    "MoE = 0.03\n",
    "\n",
    "# Calculate the sample size using the simplified formula from the image\n",
    "# n = (1 / MoE)^2\n",
    "sample_size = (1 / MoE)**2\n",
    "\n",
    "# The sample size should be a whole number\n",
    "sample_size = int(round(sample_size))\n",
    "\n",
    "sample_size\n"
   ]
  },
  {
   "cell_type": "code",
   "execution_count": 7,
   "metadata": {},
   "outputs": [
    {
     "data": {
      "text/plain": [
       "1111"
      ]
     },
     "execution_count": 7,
     "metadata": {},
     "output_type": "execute_result"
    }
   ],
   "source": [
    "# Margin of Error (MoE)\n",
    "MoE = 0.03\n",
    "\n",
    "# Calculate the sample size using the simplified formula from the image\n",
    "# n = (1 / MoE)^2\n",
    "sample_size = (1 / MoE)**2\n",
    "\n",
    "# The sample size should be a whole number\n",
    "sample_size = int(round(sample_size))\n",
    "\n",
    "sample_size"
   ]
  },
  {
   "cell_type": "markdown",
   "metadata": {},
   "source": [
    "##### For 99% Confidence\n",
    "\n",
    "\n",
    "$$\n",
    "\\begin{align*}\n",
    "& \\hat{p} \\pm Z^* \\cdot \\frac{1}{2\\sqrt{n}} \\\\\n",
    "& MoE = Z^* \\cdot \\frac{1}{2\\sqrt{n}} \\\\\n",
    "& n = \\left( \\frac{Z^*}{2 \\cdot MoE} \\right)^2 \\\\\n",
    "\\end{align*}\n",
    "$$\n",
    "\n"
   ]
  },
  {
   "cell_type": "code",
   "execution_count": 8,
   "metadata": {},
   "outputs": [
    {
     "name": "stdout",
     "output_type": "stream",
     "text": [
      "1844\n"
     ]
    }
   ],
   "source": [
    "# Values provided in the image\n",
    "Z_star = 2.576  # Z-score for 99% confidence\n",
    "MoE = 0.03      # Margin of Error\n",
    "\n",
    "# Sample size calculation\n",
    "n = (Z_star / (2 * MoE)) ** 2\n",
    "\n",
    "# Since sample size must be a whole number, round up\n",
    "import math\n",
    "n_rounded = math.ceil(n)\n",
    "\n",
    "print(n_rounded)\n"
   ]
  },
  {
   "cell_type": "markdown",
   "metadata": {},
   "source": [
    "#### Exact Method\n",
    "$n = \\left( \\frac{Z_{\\alpha/2} \\times \\sqrt{p(1-p)}}{MoE} \\right)^2$"
   ]
  },
  {
   "cell_type": "code",
   "execution_count": 9,
   "metadata": {},
   "outputs": [
    {
     "data": {
      "text/plain": [
       "601"
      ]
     },
     "execution_count": 9,
     "metadata": {},
     "output_type": "execute_result"
    }
   ],
   "source": [
    "from scipy.stats import norm\n",
    "\n",
    "# Desired margin of error\n",
    "margin_of_error = 0.04\n",
    "\n",
    "# For a 95% confidence interval, the z-score is approximately 1.96\n",
    "z_score = norm.ppf(0.975)\n",
    "\n",
    "# Since the population proportion is unknown, we use the most conservative estimate, p = 0.5\n",
    "p = 0.5\n",
    "q = 1 - p\n",
    "\n",
    "# Calculate the sample size using the formula for margin of error\n",
    "sample_size = (z_score ** 2 * p * q) / (margin_of_error ** 2)\n",
    "\n",
    "# Since sample size must be a whole number, we round up\n",
    "sample_size = int(sample_size) + 1 if sample_size % 1 > 0 else int(sample_size)\n",
    "\n",
    "sample_size\n"
   ]
  },
  {
   "cell_type": "markdown",
   "metadata": {},
   "source": [
    "What minimum sample size does the researcher need in order to create a 98% conservative confidence interval with a margin of error of no more than 3%?   "
   ]
  },
  {
   "cell_type": "code",
   "execution_count": 10,
   "metadata": {},
   "outputs": [
    {
     "data": {
      "text/plain": [
       "1504"
      ]
     },
     "execution_count": 10,
     "metadata": {},
     "output_type": "execute_result"
    }
   ],
   "source": [
    "from scipy.stats import norm\n",
    "\n",
    "# Desired margin of error\n",
    "margin_of_error = 0.03\n",
    "\n",
    "# For a 98% confidence interval, the z-score is approximately 2.33 (found using the ppf function)\n",
    "z_score = norm.ppf(0.99)\n",
    "\n",
    "# Since the population proportion is unknown, we use the most conservative estimate, p = 0.5\n",
    "p = 0.5\n",
    "q = 1 - p\n",
    "\n",
    "# Calculate the sample size using the formula for margin of error\n",
    "sample_size = (z_score ** 2 * p * q) / (margin_of_error ** 2)\n",
    "\n",
    "# Since sample size must be a whole number, we round up\n",
    "sample_size = int(sample_size) + (sample_size % 1 > 0)\n",
    "\n",
    "sample_size"
   ]
  },
  {
   "cell_type": "markdown",
   "metadata": {},
   "source": [
    "## Two Proportions"
   ]
  },
  {
   "cell_type": "markdown",
   "metadata": {},
   "source": [
    "### Estimating a Difference in Population Proportions\n",
    "$$\n",
    "\\text{Best Estimate} \\pm \\text{MoE} \\\\\n",
    "\\hat{p}_1 - \\hat{p}_2 \\pm 1.96 \\cdot \\sqrt{\\frac{\\hat{p}_1(1-\\hat{p}_1)}{n_1} + \\frac{\\hat{p}_2(1-\\hat{p}_2)}{n_2}}\n",
    "$$"
   ]
  },
  {
   "cell_type": "code",
   "execution_count": 11,
   "metadata": {},
   "outputs": [
    {
     "data": {
      "text/plain": [
       "[0.1812, 0.5496, 0.3684, 1.96, 0.0677, 0.1135, 0.2489]"
      ]
     },
     "execution_count": 11,
     "metadata": {},
     "output_type": "execute_result"
    }
   ],
   "source": [
    "import numpy as np\n",
    "from scipy.stats import norm\n",
    "\n",
    "# Given sample sizes and number of successes\n",
    "n1, x1 = 988, 543 # sample of white children\n",
    "n2, x2 = 247, 91  # sample of black children\n",
    "\n",
    "\n",
    "# Calculate the sample proportions\n",
    "p1 = x1 / n1\n",
    "p2 = x2 / n2\n",
    "\n",
    "# Calculate the standard error for the difference in proportions\n",
    "se = np.sqrt(p1 * (1 - p1) / n1 + p2 * (1 - p2) / n2)\n",
    "\n",
    "# Calculate the z-score for 95% confidence\n",
    "z = norm.ppf(0.975)\n",
    "#z = 1.96\n",
    "\n",
    "# Calculate the margin of error\n",
    "moE = z * se\n",
    "\n",
    "# Calculate the confidence interval\n",
    "ci_lower = (p1 - p2) - moE\n",
    "ci_upper = (p1 - p2) + moE\n",
    "#ci_lower = 0.18 - moE\n",
    "#ci_upper = 0.18 + moE\n",
    "\n",
    "round_values([p1 - p2, p1, p2, z,moE, ci_lower, ci_upper], 4)\n"
   ]
  },
  {
   "cell_type": "markdown",
   "metadata": {},
   "source": [
    "Interpreting the Confidence Interval\n",
    "\"range of reasonable values for our parameter\"\n",
    "With 95% confidence, the population proportion of parents with white children who have taken swimming lessons is 11.35 to 24.89% higher than the population proportion of parents with black children who have taken swimming lessons."
   ]
  },
  {
   "cell_type": "markdown",
   "metadata": {},
   "source": [
    "# Population Means"
   ]
  },
  {
   "cell_type": "markdown",
   "metadata": {},
   "source": [
    "## One Mean\n",
    "$$\n",
    "\\bar{x} \\pm t^* \\left(\\frac{s}{\\sqrt{n}}\\right)\n",
    "$$\n",
    "\n",
    "Mean = 82.48 inches\n",
    "\n",
    "Standard Deviation = 15.06 inches\n",
    "\n",
    "$n$ = 25 observations > $t*$ = 2.064\n",
    "\n",
    "$$\n",
    "\\begin{align*}\n",
    "\\bar{x} \\pm t^* \\left( \\frac{s}{\\sqrt{n}} \\right) &= 82.48 \\pm 2.064 \\left( \\frac{15.06}{\\sqrt{25}} \\right) \\\\\n",
    "&= 82.48 \\pm 2.064(3.012) \\\\\n",
    "&= 82.48 \\pm 6.22 \\\\\n",
    "& \\text{(76.26 inches, 88.70 inches)} \n",
    "\\end{align*}\n",
    "$$\n"
   ]
  },
  {
   "cell_type": "code",
   "execution_count": 12,
   "metadata": {},
   "outputs": [
    {
     "name": "stdout",
     "output_type": "stream",
     "text": [
      "t-score for 95.0% confidence level and 24 degrees of freedom: 2.0638985616280205\n"
     ]
    }
   ],
   "source": [
    "from scipy.stats import t\n",
    "\n",
    "# Define your confidence level and degrees of freedom\n",
    "sample_size = 25\n",
    "confidence_level = 0.95  # for a 95% confidence interval\n",
    "degrees_of_freedom = sample_size - 1  # degrees of freedom\n",
    "\n",
    "# Calculate the t-score\n",
    "# The ppf function returns the inverse of the CDF (Cumulative Distribution Function)\n",
    "# The argument for the ppf function should be 1 minus half of the alpha level (1 - alpha/2)\n",
    "# because the t-distribution is symmetric, and we want the cumulative area from -t to t.\n",
    "t_score = t.ppf((1 + confidence_level) / 2, degrees_of_freedom)\n",
    "#t_score = 2.064\n",
    "\n",
    "print(f\"t-score for {confidence_level*100}% confidence level and {degrees_of_freedom} degrees of freedom: {t_score}\")\n"
   ]
  },
  {
   "cell_type": "code",
   "execution_count": 13,
   "metadata": {},
   "outputs": [
    {
     "name": "stdout",
     "output_type": "stream",
     "text": [
      "Margin of Error: 6.22\n",
      "Mean (95% CI): 82.48 (76.26 to 88.70)\n"
     ]
    }
   ],
   "source": [
    "# Given values for the mean, t-score, standard deviation, and sample size\n",
    "mean = 82.48\n",
    "\n",
    "standard_deviation = 15.06\n",
    "\n",
    "\n",
    "# Calculate the margin of error\n",
    "margin_of_error = t_score * (standard_deviation / (sample_size ** 0.5))\n",
    "\n",
    "# Calculate the confidence interval\n",
    "lower_bound = mean - margin_of_error\n",
    "upper_bound = mean + margin_of_error\n",
    "\n",
    "print(f\"Margin of Error: {margin_of_error:.2f}\")\n",
    "print(f\"Mean (95% CI): {mean:.2f} ({lower_bound:.2f} to {upper_bound:.2f})\")\n"
   ]
  },
  {
   "cell_type": "markdown",
   "metadata": {},
   "source": [
    "# End"
   ]
  }
 ],
 "metadata": {
  "kernelspec": {
   "display_name": "base",
   "language": "python",
   "name": "python3"
  },
  "language_info": {
   "codemirror_mode": {
    "name": "ipython",
    "version": 3
   },
   "file_extension": ".py",
   "mimetype": "text/x-python",
   "name": "python",
   "nbconvert_exporter": "python",
   "pygments_lexer": "ipython3",
   "version": "3.8.18"
  }
 },
 "nbformat": 4,
 "nbformat_minor": 2
}
